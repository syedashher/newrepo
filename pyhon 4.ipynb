{
 "cells": [
  {
   "cell_type": "code",
   "execution_count": 5,
   "metadata": {},
   "outputs": [
    {
     "name": "stdout",
     "output_type": "stream",
     "text": [
      "Asher\n",
      "Manzoor\n",
      "24\n",
      "Karachi\n",
      "Intermediate\n",
      "after update Qualification  Bsc\n",
      "{'first_name': 'Asher', 'last_name,': 'Manzoor', 'age': '24', 'city': 'Karachi'}\n"
     ]
    }
   ],
   "source": [
    "obj = {\n",
    "    \"first_name\" : \"Asher\",\n",
    "    \"last_name,\" : \"Manzoor\",\n",
    "    \"age\":\"24\",\n",
    "    \"city\" : \"Karachi\"\n",
    "}\n",
    "\n",
    "for i in obj.values():\n",
    "    print(i)\n",
    "\n",
    "obj.update({\"qualification\":\"Intermediate\"})\n",
    "\n",
    "print(obj[\"qualification\"])\n",
    "\n",
    "obj[\"qualification\"] = \"Bsc\"\n",
    "print(\"after update Qualification \",obj[\"qualification\"])\n",
    "\n",
    "del obj[\"qualification\"]\n",
    "\n",
    "print(obj)"
   ]
  },
  {
   "cell_type": "code",
   "execution_count": 9,
   "metadata": {},
   "outputs": [
    {
     "name": "stdout",
     "output_type": "stream",
     "text": [
      "Name of city is  karachi\n",
      "Country Name is :  Pakistan\n",
      "Approximate population is :  14.91 million\n",
      "Fact of the city is :  Karachi is one of the most populated city of the world its is in the province of Sindh and have huge importance to all over the cities of pakistan\n",
      "===================================================================================================================\n",
      "Name of city is  Dubai\n",
      "Country Name is :  UAE\n",
      "Approximate population is :  3.137 million approx\n",
      "Fact of the city is :  Dubai is a city & emirate in the United Arab Emirates known for luxury shopping, ultramodren architecture and a lively nightlife scene\n",
      "===================================================================================================================\n",
      "Name of city is  paris\n",
      "Country Name is :  France\n",
      "Approximate population is :  2.141 million approx\n",
      "Fact of the city is :  Paris, France's capital, is a major European city and a global center for art, fashion gastronomy and culture\n",
      "===================================================================================================================\n"
     ]
    }
   ],
   "source": [
    "   city ={ \n",
    "    \"karachi\" : {\n",
    "        \"country\": \"Pakistan\",\n",
    "        \"approximate_population\":\"14.91 million\",\n",
    "        \"fact\":\"Karachi is one of the most populated city of the world its is in the province of Sindh and have huge importance to all over the cities of pakistan\"\n",
    "    },\n",
    "    \"Dubai\" : {\n",
    "        \"country\": \"UAE\",\n",
    "        \"approximate_population\":\"3.137 million approx\",\n",
    "        \"fact\":\"Dubai is a city & emirate in the United Arab Emirates known for luxury shopping, ultramodren architecture and a lively nightlife scene\"\n",
    "    },\n",
    "    \"paris\" : {\n",
    "        \"country\": \"France\",\n",
    "        \"approximate_population\":\"2.141 million approx\",\n",
    "        \"fact\":\"Paris, France's capital, is a major European city and a global center for art, fashion gastronomy and culture\"\n",
    "    }   \n",
    "}\n",
    "    \n",
    "for i in city.keys():\n",
    "    print(\"Name of city is \", i)\n",
    "    print(\"Country Name is : \" , city[i][\"country\"])\n",
    "    print(\"Approximate population is : \" , city[i][\"approximate_population\"])\n",
    "    print(\"Fact of the city is : \" , city[i][\"fact\"])\n",
    "    print(\"===================================================================================================================\")"
   ]
  },
  {
   "cell_type": "code",
   "execution_count": 12,
   "metadata": {},
   "outputs": [
    {
     "name": "stdout",
     "output_type": "stream",
     "text": [
      "Welcome To Movie Theater\n",
      "Enter the no. of Person : 3\n",
      "Enter The Age Of Person: 2\n",
      "Your Ticket is Free! Enjoy Your Movie\n",
      "Enter The Age Of Person: 10\n",
      "Your Ticket price will be 10$\n",
      "Enter The Age Of Person: 45\n",
      "Your Ticket price will be 15$\n",
      "Total Amount =  25  $ Enjoy Your Movie\n"
     ]
    }
   ],
   "source": [
    "print(\"Welcome To Movie Theater\")\n",
    "persons = int(input(\"Enter the no. of Person : \"))\n",
    "\n",
    "total_price = 0\n",
    "\n",
    "for i in range(1,persons+1):\n",
    "    age = int(input(\"Enter The Age Of Person: \"))\n",
    "    if age <= 3:\n",
    "        print(\"Your Ticket is Free! Enjoy Your Movie\")\n",
    "    elif age <= 12:\n",
    "        print(\"Your Ticket price will be 10$\")\n",
    "        total_price +=10\n",
    "    else:\n",
    "        print(\"Your Ticket price will be 15$\")\n",
    "        total_price +=15\n",
    "\n",
    "print(\"Total Amount = \",total_price,\" $ Enjoy Your Movie\")"
   ]
  },
  {
   "cell_type": "code",
   "execution_count": 1,
   "metadata": {},
   "outputs": [
    {
     "name": "stdout",
     "output_type": "stream",
     "text": [
      "Enter The Bookk Title: Romeo and Juliet\n",
      "One of my favorite books is  Romeo and Juliet\n"
     ]
    }
   ],
   "source": [
    "def favorite_book(book_name):\n",
    "    print(\"One of my favorite books is \",book_name)\n",
    "    \n",
    "title=input(\"Enter The Bookk Title: \")\n",
    "\n",
    "favorite_book(title)"
   ]
  },
  {
   "cell_type": "code",
   "execution_count": 10,
   "metadata": {},
   "outputs": [
    {
     "name": "stdout",
     "output_type": "stream",
     "text": [
      "Guess the number between 1 to 30 : 25\n",
      "Your guess is too high\n",
      "Guess the number between 1 to 30 : 15\n",
      "Your guess is too high\n",
      "Guess the number between 1 to 30 : 8\n",
      "Congratulation you Win!!\n"
     ]
    }
   ],
   "source": [
    "import random\n",
    "\n",
    "random_number = random.randrange(1,30)\n",
    "\n",
    "flag = False\n",
    "\n",
    "for i in range(1,4):\n",
    "    guess = int(input(\"Guess the number between 1 to 30 : \"))\n",
    "    if guess == random_number:\n",
    "        flag = True \n",
    "        break\n",
    "    elif guess < random_number:\n",
    "        print(\"Your guess is too low\")\n",
    "    else:\n",
    "        print(\"Your guess is too high\")\n",
    "        \n",
    "if flag:\n",
    "    print(\"Congratulation you Win!!\")\n",
    "else:\n",
    "    print(\"You Loose\")\n",
    "    print(\"Correct Number is \", random_number)"
   ]
  },
  {
   "cell_type": "code",
   "execution_count": null,
   "metadata": {},
   "outputs": [],
   "source": []
  },
  {
   "cell_type": "code",
   "execution_count": null,
   "metadata": {},
   "outputs": [],
   "source": []
  }
 ],
 "metadata": {
  "kernelspec": {
   "display_name": "Python 3",
   "language": "python",
   "name": "python3"
  },
  "language_info": {
   "codemirror_mode": {
    "name": "ipython",
    "version": 3
   },
   "file_extension": ".py",
   "mimetype": "text/x-python",
   "name": "python",
   "nbconvert_exporter": "python",
   "pygments_lexer": "ipython3",
   "version": "3.7.4"
  }
 },
 "nbformat": 4,
 "nbformat_minor": 2
}
